{
 "cells": [
  {
   "cell_type": "code",
   "execution_count": 1,
   "metadata": {},
   "outputs": [
    {
     "name": "stderr",
     "output_type": "stream",
     "text": [
      "Using TensorFlow backend.\n",
      "/Library/Frameworks/Python.framework/Versions/3.6/lib/python3.6/site-packages/sklearn/cross_validation.py:41: DeprecationWarning: This module was deprecated in version 0.18 in favor of the model_selection module into which all the refactored classes and functions are moved. Also note that the interface of the new CV iterators are different from that of this module. This module will be removed in 0.20.\n",
      "  \"This module will be removed in 0.20.\", DeprecationWarning)\n"
     ]
    }
   ],
   "source": [
    "import numpy as np\n",
    "import pandas as pd\n",
    "\n",
    "from keras.layers.core import Dense, Activation, Dropout\n",
    "from keras.layers.recurrent import LSTM\n",
    "from keras.models import Sequential, load_model\n",
    "\n",
    "from sklearn.cross_validation import  train_test_split\n",
    "from sklearn.preprocessing import MinMaxScaler\n",
    "from sklearn.metrics import mean_squared_error\n",
    "\n",
    "import matplotlib.pyplot as plt\n",
    "\n",
    "import math\n"
   ]
  },
  {
   "cell_type": "code",
   "execution_count": 2,
   "metadata": {},
   "outputs": [
    {
     "data": {
      "text/html": [
       "<div>\n",
       "<style scoped>\n",
       "    .dataframe tbody tr th:only-of-type {\n",
       "        vertical-align: middle;\n",
       "    }\n",
       "\n",
       "    .dataframe tbody tr th {\n",
       "        vertical-align: top;\n",
       "    }\n",
       "\n",
       "    .dataframe thead th {\n",
       "        text-align: right;\n",
       "    }\n",
       "</style>\n",
       "<table border=\"1\" class=\"dataframe\">\n",
       "  <thead>\n",
       "    <tr style=\"text-align: right;\">\n",
       "      <th></th>\n",
       "      <th>Date</th>\n",
       "      <th>Open</th>\n",
       "      <th>High</th>\n",
       "      <th>Low</th>\n",
       "      <th>Close</th>\n",
       "      <th>Adj Close</th>\n",
       "      <th>Volume</th>\n",
       "    </tr>\n",
       "  </thead>\n",
       "  <tbody>\n",
       "    <tr>\n",
       "      <th>0</th>\n",
       "      <td>2016-07-18</td>\n",
       "      <td>13.13</td>\n",
       "      <td>13.23</td>\n",
       "      <td>13.05</td>\n",
       "      <td>13.22</td>\n",
       "      <td>12.251142</td>\n",
       "      <td>2510500</td>\n",
       "    </tr>\n",
       "    <tr>\n",
       "      <th>1</th>\n",
       "      <td>2016-07-19</td>\n",
       "      <td>13.04</td>\n",
       "      <td>13.15</td>\n",
       "      <td>13.01</td>\n",
       "      <td>13.03</td>\n",
       "      <td>12.075066</td>\n",
       "      <td>1619900</td>\n",
       "    </tr>\n",
       "    <tr>\n",
       "      <th>2</th>\n",
       "      <td>2016-07-20</td>\n",
       "      <td>13.24</td>\n",
       "      <td>13.31</td>\n",
       "      <td>13.15</td>\n",
       "      <td>13.29</td>\n",
       "      <td>12.316010</td>\n",
       "      <td>1732200</td>\n",
       "    </tr>\n",
       "    <tr>\n",
       "      <th>3</th>\n",
       "      <td>2016-07-21</td>\n",
       "      <td>13.33</td>\n",
       "      <td>13.41</td>\n",
       "      <td>13.17</td>\n",
       "      <td>13.21</td>\n",
       "      <td>12.241874</td>\n",
       "      <td>1980100</td>\n",
       "    </tr>\n",
       "    <tr>\n",
       "      <th>4</th>\n",
       "      <td>2016-07-22</td>\n",
       "      <td>13.39</td>\n",
       "      <td>13.40</td>\n",
       "      <td>13.28</td>\n",
       "      <td>13.29</td>\n",
       "      <td>12.316010</td>\n",
       "      <td>1465100</td>\n",
       "    </tr>\n",
       "  </tbody>\n",
       "</table>\n",
       "</div>"
      ],
      "text/plain": [
       "         Date   Open   High    Low  Close  Adj Close   Volume\n",
       "0  2016-07-18  13.13  13.23  13.05  13.22  12.251142  2510500\n",
       "1  2016-07-19  13.04  13.15  13.01  13.03  12.075066  1619900\n",
       "2  2016-07-20  13.24  13.31  13.15  13.29  12.316010  1732200\n",
       "3  2016-07-21  13.33  13.41  13.17  13.21  12.241874  1980100\n",
       "4  2016-07-22  13.39  13.40  13.28  13.29  12.316010  1465100"
      ]
     },
     "execution_count": 2,
     "metadata": {},
     "output_type": "execute_result"
    }
   ],
   "source": [
    "np.random.seed(7)\n",
    "\n",
    "msft_dataset = pd.read_csv('./data/UBS.csv')\n",
    "msft_dataset.head()"
   ]
  },
  {
   "cell_type": "code",
   "execution_count": 3,
   "metadata": {},
   "outputs": [
    {
     "data": {
      "text/plain": [
       "Date          object\n",
       "Open         float64\n",
       "High         float64\n",
       "Low          float64\n",
       "Close        float64\n",
       "Adj Close    float64\n",
       "Volume         int64\n",
       "dtype: object"
      ]
     },
     "execution_count": 3,
     "metadata": {},
     "output_type": "execute_result"
    }
   ],
   "source": [
    "msft_dataset.dtypes"
   ]
  },
  {
   "cell_type": "code",
   "execution_count": 4,
   "metadata": {},
   "outputs": [],
   "source": [
    "msft_dataset['Date'] = pd.to_datetime(msft_dataset['Date'])\n",
    "msft_dataset['Close'] = pd.to_numeric(msft_dataset['Close'], downcast='float')\n",
    "msft_dataset.set_index('Date',inplace=True)"
   ]
  },
  {
   "cell_type": "code",
   "execution_count": 5,
   "metadata": {
    "scrolled": true
   },
   "outputs": [
    {
     "data": {
      "image/png": "[encoded data removed]",
      "text/plain": [
       "<Figure size 432x288 with 1 Axes>"
      ]
     },
     "metadata": {},
     "output_type": "display_data"
    }
   ],
   "source": [
    "msft_close = msft_dataset['Close']\n",
    "msft_close = msft_close.values.reshape(len(msft_close), 1)\n",
    "plt.plot(msft_close)\n",
    "plt.show()"
   ]
  },
  {
   "cell_type": "code",
   "execution_count": 6,
   "metadata": {},
   "outputs": [],
   "source": [
    "scaler = MinMaxScaler(feature_range=(0,1))\n",
    "msft_close  = scaler.fit_transform(msft_close)\n",
    "msftTrain , msftTest = msft_close[0:300], msft_close[300:]\n"
   ]
  },
  {
   "cell_type": "code",
   "execution_count": 7,
   "metadata": {},
   "outputs": [
    {
     "name": "stdout",
     "output_type": "stream",
     "text": [
      "(292, 7, 1)\n",
      "(196,)\n",
      "Epoch 1/5\n",
      "292/292 [==============================] - 1s 2ms/step - loss: 0.0862\n",
      "Epoch 2/5\n",
      "292/292 [==============================] - 0s 319us/step - loss: 0.0645\n",
      "Epoch 3/5\n",
      "292/292 [==============================] - 0s 321us/step - loss: 0.0472\n",
      "Epoch 4/5\n",
      "292/292 [==============================] - 0s 359us/step - loss: 0.0333\n",
      "Epoch 5/5\n",
      "292/292 [==============================] - 0s 296us/step - loss: 0.0231\n",
      "(292, 7, 1)\n"
     ]
    }
   ],
   "source": [
    "def create_ts(ds, series):\n",
    "    X, Y =[], []\n",
    "    for i in range(len(ds)-series - 1):\n",
    "        item = ds[i:(i+series), 0]\n",
    "        X.append(item)\n",
    "        Y.append(ds[i+series, 0])\n",
    "    return np.array(X), np.array(Y)\n",
    "\n",
    "series = 7\n",
    "\n",
    "trainX, trainY = create_ts(msftTrain, series=7)\n",
    "testX, testY = create_ts(msftTest, series=7)\n",
    "\n",
    "trainX = np.reshape(trainX, (trainX.shape[0], trainX.shape[1], 1))\n",
    "testX = np.reshape(testX, (testX.shape[0], testX.shape[1], 1))\n",
    "\n",
    "\n",
    "print(trainX.shape)\n",
    "print(testY.shape)\n",
    "\n",
    "\n",
    "model = Sequential()\n",
    "model.add(LSTM(4, input_shape=(series, 1)))\n",
    "model.add(Dense(1))\n",
    "model.compile(loss='mse', optimizer='adam')\n",
    "\n",
    "model.fit(trainX, trainY, epochs=5, batch_size=32)\n",
    "\n",
    "model.save('trained_model.h5')\n",
    "\n",
    "print(trainX.shape)"
   ]
  },
  {
   "cell_type": "code",
   "execution_count": 9,
   "metadata": {},
   "outputs": [
    {
     "name": "stdout",
     "output_type": "stream",
     "text": [
      "enter\n",
      "[13.65999956 13.56000029 13.77999944 13.49000005 12.97000027 13.12000011\n",
      " 13.22999969 13.46000008 13.54999999 13.65999956 13.68999953 13.77999944\n",
      " 13.85999999 13.81000035 13.72000044 13.71000014 13.65999956 13.46000008\n",
      " 13.49000005 13.84000032 14.09000038 14.05000011 14.0299995  14.10000068\n",
      " 14.27999956 14.45000001 14.46000032 14.71000038 14.53999992 14.58000019\n",
      " 14.68000041 14.68000041 14.6700001  14.35000074 14.16999998 14.25999989\n",
      " 13.77000008 13.63000054 13.51000066 13.83000002 13.9700005  13.81000035\n",
      " 13.44999978 13.43000011 13.56999965 13.06000017 13.62000023 13.52000002\n",
      " 13.83000002 14.10000068 13.93000023 13.90999962 13.93000023 13.77000008\n",
      " 13.68000017 13.35000051 13.41999981 13.35000051 13.51000066 13.71000014\n",
      " 13.6399999  13.66999987 13.85000063 13.80000005 13.77000008 13.97999986\n",
      " 14.3600001  14.06999977 13.99000017 13.77000008 13.57999996 13.51000066\n",
      " 14.14999937 14.14999937 14.43999971 15.69999936 15.81000082 16.35000122\n",
      " 16.33000061 15.89999884 15.9899997  15.89000043 15.74999994 15.77999991\n",
      " 15.61999976 15.77000055 15.35000004 15.51000019 15.8500011  15.96000067\n",
      " 15.66000003 16.12999829 17.03000115 17.37000017 17.29999993 16.78000109\n",
      " 16.54000134 16.77000079 16.36000152 16.20999884 16.03000091 16.07000024\n",
      " 16.16999951 16.03000091 15.89000043 15.72999933 15.80000052 15.56000076\n",
      " 15.47999927 15.67000034 16.34000091 16.87000005 16.79999981 16.78000109\n",
      " 16.4599989  16.4699992  16.77000079 16.66999963 17.06000017 16.73999987\n",
      " 16.50000012 16.66999963 16.62999841 16.58000067 16.84999945 17.2500003\n",
      " 16.90999938 16.29999969 16.28000097 16.11000146 16.04999963 15.8500011\n",
      " 16.15999921 15.90999915 15.86999982 15.88000012 15.97999939 15.89999884\n",
      " 15.84000079 15.88000012 16.04000122 15.97999939 15.8500011  15.84000079\n",
      " 15.55000046 15.51000019 15.32000007 15.38       15.3699997  16.04999963\n",
      " 15.81000082 16.         15.80000052 15.67000034 15.57000013 15.88000012\n",
      " 16.02000061 15.92999976 15.84000079 15.94000006 16.26000036 16.04000122\n",
      " 15.79000021 15.69       15.66000003 15.60000009 15.63000006 15.79000021\n",
      " 15.89000043 15.8500011  15.96000067 15.95000037 15.80000052 15.70999967\n",
      " 15.48999958 15.57999949 15.55000046 15.64999973 15.64999973 15.39000031\n",
      " 15.18999988 15.43999994 15.20000019 15.33000037 15.57000013 15.56000076\n",
      " 16.4699992  16.62       16.73999987 16.72999957 17.01000054 17.12999853\n",
      " 17.29000151 17.3999992  17.60999993 17.64999926 17.04999987 16.79000139\n",
      " 16.92999999 16.70000054 16.77000079 16.28000097 16.50000012 16.10000116\n",
      " 16.07000024 16.36999994 16.4599989  16.47999951 16.23999975 16.21999915\n",
      " 16.21999915 16.         15.89000043 16.10000116 16.07000024 15.95000037\n",
      " 15.97999939 16.07000024 15.85999951 16.04000122 15.96000067 16.3200003\n",
      " 16.17999982 16.         16.22999945 16.29000128 16.02000061 16.12999829\n",
      " 16.1399986  16.05999994 16.23999975 16.59000097 17.04999987 17.10999981\n",
      " 16.97999963 17.32000054 17.35999987 17.31000023 17.54999999 17.56000029\n",
      " 17.51000066 17.45999914 17.51000066 17.56000029 17.49000005 17.64999926\n",
      " 17.77000102 17.80000005 17.65999956 18.05999852 18.18000029 18.11000004\n",
      " 17.97999986 17.52000096 17.43000011 17.57999901 17.49000005 17.45999914\n",
      " 17.53000127 17.47999975 17.22999969 17.31000023 17.04999987 17.04999987\n",
      " 17.12000011 17.0999995  17.08000078 16.75000018 16.83000072 16.76000048\n",
      " 16.75000018 16.64999902 16.69000024 16.81000012 16.70000054 16.54999975\n",
      " 16.51000042 16.44000018 16.41999957 16.15999921 16.31       16.25000006\n",
      " 16.39999896 16.47999951 16.70999896 16.65999932 16.62999841 16.70000054\n",
      " 16.81000012 16.9400003  16.88999877 16.95999902]\n"
     ]
    },
    {
     "ename": "ValueError",
     "evalue": "Expected 2D array, got 1D array instead:\narray=[13.65999956 13.56000029 13.77999944 13.49000005 12.97000027 13.12000011\n 13.22999969 13.46000008 13.54999999 13.65999956 13.68999953 13.77999944\n 13.85999999 13.81000035 13.72000044 13.71000014 13.65999956 13.46000008\n 13.49000005 13.84000032 14.09000038 14.05000011 14.0299995  14.10000068\n 14.27999956 14.45000001 14.46000032 14.71000038 14.53999992 14.58000019\n 14.68000041 14.68000041 14.6700001  14.35000074 14.16999998 14.25999989\n 13.77000008 13.63000054 13.51000066 13.83000002 13.9700005  13.81000035\n 13.44999978 13.43000011 13.56999965 13.06000017 13.62000023 13.52000002\n 13.83000002 14.10000068 13.93000023 13.90999962 13.93000023 13.77000008\n 13.68000017 13.35000051 13.41999981 13.35000051 13.51000066 13.71000014\n 13.6399999  13.66999987 13.85000063 13.80000005 13.77000008 13.97999986\n 14.3600001  14.06999977 13.99000017 13.77000008 13.57999996 13.51000066\n 14.14999937 14.14999937 14.43999971 15.69999936 15.81000082 16.35000122\n 16.33000061 15.89999884 15.9899997  15.89000043 15.74999994 15.77999991\n 15.61999976 15.77000055 15.35000004 15.51000019 15.8500011  15.96000067\n 15.66000003 16.12999829 17.03000115 17.37000017 17.29999993 16.78000109\n 16.54000134 16.77000079 16.36000152 16.20999884 16.03000091 16.07000024\n 16.16999951 16.03000091 15.89000043 15.72999933 15.80000052 15.56000076\n 15.47999927 15.67000034 16.34000091 16.87000005 16.79999981 16.78000109\n 16.4599989  16.4699992  16.77000079 16.66999963 17.06000017 16.73999987\n 16.50000012 16.66999963 16.62999841 16.58000067 16.84999945 17.2500003\n 16.90999938 16.29999969 16.28000097 16.11000146 16.04999963 15.8500011\n 16.15999921 15.90999915 15.86999982 15.88000012 15.97999939 15.89999884\n 15.84000079 15.88000012 16.04000122 15.97999939 15.8500011  15.84000079\n 15.55000046 15.51000019 15.32000007 15.38       15.3699997  16.04999963\n 15.81000082 16.         15.80000052 15.67000034 15.57000013 15.88000012\n 16.02000061 15.92999976 15.84000079 15.94000006 16.26000036 16.04000122\n 15.79000021 15.69       15.66000003 15.60000009 15.63000006 15.79000021\n 15.89000043 15.8500011  15.96000067 15.95000037 15.80000052 15.70999967\n 15.48999958 15.57999949 15.55000046 15.64999973 15.64999973 15.39000031\n 15.18999988 15.43999994 15.20000019 15.33000037 15.57000013 15.56000076\n 16.4699992  16.62       16.73999987 16.72999957 17.01000054 17.12999853\n 17.29000151 17.3999992  17.60999993 17.64999926 17.04999987 16.79000139\n 16.92999999 16.70000054 16.77000079 16.28000097 16.50000012 16.10000116\n 16.07000024 16.36999994 16.4599989  16.47999951 16.23999975 16.21999915\n 16.21999915 16.         15.89000043 16.10000116 16.07000024 15.95000037\n 15.97999939 16.07000024 15.85999951 16.04000122 15.96000067 16.3200003\n 16.17999982 16.         16.22999945 16.29000128 16.02000061 16.12999829\n 16.1399986  16.05999994 16.23999975 16.59000097 17.04999987 17.10999981\n 16.97999963 17.32000054 17.35999987 17.31000023 17.54999999 17.56000029\n 17.51000066 17.45999914 17.51000066 17.56000029 17.49000005 17.64999926\n 17.77000102 17.80000005 17.65999956 18.05999852 18.18000029 18.11000004\n 17.97999986 17.52000096 17.43000011 17.57999901 17.49000005 17.45999914\n 17.53000127 17.47999975 17.22999969 17.31000023 17.04999987 17.04999987\n 17.12000011 17.0999995  17.08000078 16.75000018 16.83000072 16.76000048\n 16.75000018 16.64999902 16.69000024 16.81000012 16.70000054 16.54999975\n 16.51000042 16.44000018 16.41999957 16.15999921 16.31       16.25000006\n 16.39999896 16.47999951 16.70999896 16.65999932 16.62999841 16.70000054\n 16.81000012 16.9400003  16.88999877 16.95999902].\nReshape your data either using array.reshape(-1, 1) if your data has a single feature or array.reshape(1, -1) if it contains a single sample.",
     "output_type": "error",
     "traceback": [
      "\u001b[0;31m---------------------------------------------------------------------------\u001b[0m",
      "\u001b[0;31mValueError\u001b[0m                                Traceback (most recent call last)",
      "\u001b[0;32m<ipython-input-9-19c08c93ecc0>\u001b[0m in \u001b[0;36m<module>\u001b[0;34m()\u001b[0m\n\u001b[1;32m     13\u001b[0m     \u001b[0mtrainY\u001b[0m\u001b[0;34m,\u001b[0m \u001b[0mtestY\u001b[0m \u001b[0;34m=\u001b[0m \u001b[0mnp\u001b[0m\u001b[0;34m.\u001b[0m\u001b[0marray\u001b[0m\u001b[0;34m(\u001b[0m\u001b[0mtrainY\u001b[0m\u001b[0;34m[\u001b[0m\u001b[0;36m0\u001b[0m\u001b[0;34m]\u001b[0m\u001b[0;34m)\u001b[0m\u001b[0;34m,\u001b[0m \u001b[0mnp\u001b[0m\u001b[0;34m.\u001b[0m\u001b[0marray\u001b[0m\u001b[0;34m(\u001b[0m\u001b[0mtestY\u001b[0m\u001b[0;34m[\u001b[0m\u001b[0;36m0\u001b[0m\u001b[0;34m]\u001b[0m\u001b[0;34m)\u001b[0m\u001b[0;34m\u001b[0m\u001b[0m\n\u001b[1;32m     14\u001b[0m     \u001b[0mprint\u001b[0m\u001b[0;34m(\u001b[0m\u001b[0mtrainY\u001b[0m\u001b[0;34m)\u001b[0m\u001b[0;34m\u001b[0m\u001b[0m\n\u001b[0;32m---> 15\u001b[0;31m     \u001b[0mtrainY\u001b[0m\u001b[0;34m,\u001b[0m \u001b[0mtestY\u001b[0m \u001b[0;34m=\u001b[0m \u001b[0mscaler\u001b[0m\u001b[0;34m.\u001b[0m\u001b[0mfit_transform\u001b[0m\u001b[0;34m(\u001b[0m\u001b[0mtrainY\u001b[0m\u001b[0;34m)\u001b[0m\u001b[0;34m,\u001b[0m \u001b[0mscaler\u001b[0m\u001b[0;34m.\u001b[0m\u001b[0mfit_transform\u001b[0m\u001b[0;34m(\u001b[0m\u001b[0mtestY\u001b[0m\u001b[0;34m)\u001b[0m\u001b[0;34m\u001b[0m\u001b[0m\n\u001b[0m\u001b[1;32m     16\u001b[0m     \u001b[0mprint\u001b[0m\u001b[0;34m(\u001b[0m\u001b[0;34m'New Shape'\u001b[0m\u001b[0;34m,\u001b[0m \u001b[0mtrainY\u001b[0m\u001b[0;34m.\u001b[0m\u001b[0mshape\u001b[0m\u001b[0;34m)\u001b[0m\u001b[0;34m\u001b[0m\u001b[0m\n\u001b[1;32m     17\u001b[0m \u001b[0;34m\u001b[0m\u001b[0m\n",
      "\u001b[0;32m/Library/Frameworks/Python.framework/Versions/3.6/lib/python3.6/site-packages/sklearn/base.py\u001b[0m in \u001b[0;36mfit_transform\u001b[0;34m(self, X, y, **fit_params)\u001b[0m\n\u001b[1;32m    515\u001b[0m         \u001b[0;32mif\u001b[0m \u001b[0my\u001b[0m \u001b[0;32mis\u001b[0m \u001b[0;32mNone\u001b[0m\u001b[0;34m:\u001b[0m\u001b[0;34m\u001b[0m\u001b[0m\n\u001b[1;32m    516\u001b[0m             \u001b[0;31m# fit method of arity 1 (unsupervised transformation)\u001b[0m\u001b[0;34m\u001b[0m\u001b[0;34m\u001b[0m\u001b[0m\n\u001b[0;32m--> 517\u001b[0;31m             \u001b[0;32mreturn\u001b[0m \u001b[0mself\u001b[0m\u001b[0;34m.\u001b[0m\u001b[0mfit\u001b[0m\u001b[0;34m(\u001b[0m\u001b[0mX\u001b[0m\u001b[0;34m,\u001b[0m \u001b[0;34m**\u001b[0m\u001b[0mfit_params\u001b[0m\u001b[0;34m)\u001b[0m\u001b[0;34m.\u001b[0m\u001b[0mtransform\u001b[0m\u001b[0;34m(\u001b[0m\u001b[0mX\u001b[0m\u001b[0;34m)\u001b[0m\u001b[0;34m\u001b[0m\u001b[0m\n\u001b[0m\u001b[1;32m    518\u001b[0m         \u001b[0;32melse\u001b[0m\u001b[0;34m:\u001b[0m\u001b[0;34m\u001b[0m\u001b[0m\n\u001b[1;32m    519\u001b[0m             \u001b[0;31m# fit method of arity 2 (supervised transformation)\u001b[0m\u001b[0;34m\u001b[0m\u001b[0;34m\u001b[0m\u001b[0m\n",
      "\u001b[0;32m/Library/Frameworks/Python.framework/Versions/3.6/lib/python3.6/site-packages/sklearn/preprocessing/data.py\u001b[0m in \u001b[0;36mfit\u001b[0;34m(self, X, y)\u001b[0m\n\u001b[1;32m    306\u001b[0m         \u001b[0;31m# Reset internal state before fitting\u001b[0m\u001b[0;34m\u001b[0m\u001b[0;34m\u001b[0m\u001b[0m\n\u001b[1;32m    307\u001b[0m         \u001b[0mself\u001b[0m\u001b[0;34m.\u001b[0m\u001b[0m_reset\u001b[0m\u001b[0;34m(\u001b[0m\u001b[0;34m)\u001b[0m\u001b[0;34m\u001b[0m\u001b[0m\n\u001b[0;32m--> 308\u001b[0;31m         \u001b[0;32mreturn\u001b[0m \u001b[0mself\u001b[0m\u001b[0;34m.\u001b[0m\u001b[0mpartial_fit\u001b[0m\u001b[0;34m(\u001b[0m\u001b[0mX\u001b[0m\u001b[0;34m,\u001b[0m \u001b[0my\u001b[0m\u001b[0;34m)\u001b[0m\u001b[0;34m\u001b[0m\u001b[0m\n\u001b[0m\u001b[1;32m    309\u001b[0m \u001b[0;34m\u001b[0m\u001b[0m\n\u001b[1;32m    310\u001b[0m     \u001b[0;32mdef\u001b[0m \u001b[0mpartial_fit\u001b[0m\u001b[0;34m(\u001b[0m\u001b[0mself\u001b[0m\u001b[0;34m,\u001b[0m \u001b[0mX\u001b[0m\u001b[0;34m,\u001b[0m \u001b[0my\u001b[0m\u001b[0;34m=\u001b[0m\u001b[0;32mNone\u001b[0m\u001b[0;34m)\u001b[0m\u001b[0;34m:\u001b[0m\u001b[0;34m\u001b[0m\u001b[0m\n",
      "\u001b[0;32m/Library/Frameworks/Python.framework/Versions/3.6/lib/python3.6/site-packages/sklearn/preprocessing/data.py\u001b[0m in \u001b[0;36mpartial_fit\u001b[0;34m(self, X, y)\u001b[0m\n\u001b[1;32m    332\u001b[0m \u001b[0;34m\u001b[0m\u001b[0m\n\u001b[1;32m    333\u001b[0m         X = check_array(X, copy=self.copy, warn_on_dtype=True,\n\u001b[0;32m--> 334\u001b[0;31m                         estimator=self, dtype=FLOAT_DTYPES)\n\u001b[0m\u001b[1;32m    335\u001b[0m \u001b[0;34m\u001b[0m\u001b[0m\n\u001b[1;32m    336\u001b[0m         \u001b[0mdata_min\u001b[0m \u001b[0;34m=\u001b[0m \u001b[0mnp\u001b[0m\u001b[0;34m.\u001b[0m\u001b[0mmin\u001b[0m\u001b[0;34m(\u001b[0m\u001b[0mX\u001b[0m\u001b[0;34m,\u001b[0m \u001b[0maxis\u001b[0m\u001b[0;34m=\u001b[0m\u001b[0;36m0\u001b[0m\u001b[0;34m)\u001b[0m\u001b[0;34m\u001b[0m\u001b[0m\n",
      "\u001b[0;32m/Library/Frameworks/Python.framework/Versions/3.6/lib/python3.6/site-packages/sklearn/utils/validation.py\u001b[0m in \u001b[0;36mcheck_array\u001b[0;34m(array, accept_sparse, dtype, order, copy, force_all_finite, ensure_2d, allow_nd, ensure_min_samples, ensure_min_features, warn_on_dtype, estimator)\u001b[0m\n\u001b[1;32m    439\u001b[0m                     \u001b[0;34m\"Reshape your data either using array.reshape(-1, 1) if \"\u001b[0m\u001b[0;34m\u001b[0m\u001b[0m\n\u001b[1;32m    440\u001b[0m                     \u001b[0;34m\"your data has a single feature or array.reshape(1, -1) \"\u001b[0m\u001b[0;34m\u001b[0m\u001b[0m\n\u001b[0;32m--> 441\u001b[0;31m                     \"if it contains a single sample.\".format(array))\n\u001b[0m\u001b[1;32m    442\u001b[0m             \u001b[0marray\u001b[0m \u001b[0;34m=\u001b[0m \u001b[0mnp\u001b[0m\u001b[0;34m.\u001b[0m\u001b[0matleast_2d\u001b[0m\u001b[0;34m(\u001b[0m\u001b[0marray\u001b[0m\u001b[0;34m)\u001b[0m\u001b[0;34m\u001b[0m\u001b[0m\n\u001b[1;32m    443\u001b[0m             \u001b[0;31m# To ensure that array flags are maintained\u001b[0m\u001b[0;34m\u001b[0m\u001b[0;34m\u001b[0m\u001b[0m\n",
      "\u001b[0;31mValueError\u001b[0m: Expected 2D array, got 1D array instead:\narray=[13.65999956 13.56000029 13.77999944 13.49000005 12.97000027 13.12000011\n 13.22999969 13.46000008 13.54999999 13.65999956 13.68999953 13.77999944\n 13.85999999 13.81000035 13.72000044 13.71000014 13.65999956 13.46000008\n 13.49000005 13.84000032 14.09000038 14.05000011 14.0299995  14.10000068\n 14.27999956 14.45000001 14.46000032 14.71000038 14.53999992 14.58000019\n 14.68000041 14.68000041 14.6700001  14.35000074 14.16999998 14.25999989\n 13.77000008 13.63000054 13.51000066 13.83000002 13.9700005  13.81000035\n 13.44999978 13.43000011 13.56999965 13.06000017 13.62000023 13.52000002\n 13.83000002 14.10000068 13.93000023 13.90999962 13.93000023 13.77000008\n 13.68000017 13.35000051 13.41999981 13.35000051 13.51000066 13.71000014\n 13.6399999  13.66999987 13.85000063 13.80000005 13.77000008 13.97999986\n 14.3600001  14.06999977 13.99000017 13.77000008 13.57999996 13.51000066\n 14.14999937 14.14999937 14.43999971 15.69999936 15.81000082 16.35000122\n 16.33000061 15.89999884 15.9899997  15.89000043 15.74999994 15.77999991\n 15.61999976 15.77000055 15.35000004 15.51000019 15.8500011  15.96000067\n 15.66000003 16.12999829 17.03000115 17.37000017 17.29999993 16.78000109\n 16.54000134 16.77000079 16.36000152 16.20999884 16.03000091 16.07000024\n 16.16999951 16.03000091 15.89000043 15.72999933 15.80000052 15.56000076\n 15.47999927 15.67000034 16.34000091 16.87000005 16.79999981 16.78000109\n 16.4599989  16.4699992  16.77000079 16.66999963 17.06000017 16.73999987\n 16.50000012 16.66999963 16.62999841 16.58000067 16.84999945 17.2500003\n 16.90999938 16.29999969 16.28000097 16.11000146 16.04999963 15.8500011\n 16.15999921 15.90999915 15.86999982 15.88000012 15.97999939 15.89999884\n 15.84000079 15.88000012 16.04000122 15.97999939 15.8500011  15.84000079\n 15.55000046 15.51000019 15.32000007 15.38       15.3699997  16.04999963\n 15.81000082 16.         15.80000052 15.67000034 15.57000013 15.88000012\n 16.02000061 15.92999976 15.84000079 15.94000006 16.26000036 16.04000122\n 15.79000021 15.69       15.66000003 15.60000009 15.63000006 15.79000021\n 15.89000043 15.8500011  15.96000067 15.95000037 15.80000052 15.70999967\n 15.48999958 15.57999949 15.55000046 15.64999973 15.64999973 15.39000031\n 15.18999988 15.43999994 15.20000019 15.33000037 15.57000013 15.56000076\n 16.4699992  16.62       16.73999987 16.72999957 17.01000054 17.12999853\n 17.29000151 17.3999992  17.60999993 17.64999926 17.04999987 16.79000139\n 16.92999999 16.70000054 16.77000079 16.28000097 16.50000012 16.10000116\n 16.07000024 16.36999994 16.4599989  16.47999951 16.23999975 16.21999915\n 16.21999915 16.         15.89000043 16.10000116 16.07000024 15.95000037\n 15.97999939 16.07000024 15.85999951 16.04000122 15.96000067 16.3200003\n 16.17999982 16.         16.22999945 16.29000128 16.02000061 16.12999829\n 16.1399986  16.05999994 16.23999975 16.59000097 17.04999987 17.10999981\n 16.97999963 17.32000054 17.35999987 17.31000023 17.54999999 17.56000029\n 17.51000066 17.45999914 17.51000066 17.56000029 17.49000005 17.64999926\n 17.77000102 17.80000005 17.65999956 18.05999852 18.18000029 18.11000004\n 17.97999986 17.52000096 17.43000011 17.57999901 17.49000005 17.45999914\n 17.53000127 17.47999975 17.22999969 17.31000023 17.04999987 17.04999987\n 17.12000011 17.0999995  17.08000078 16.75000018 16.83000072 16.76000048\n 16.75000018 16.64999902 16.69000024 16.81000012 16.70000054 16.54999975\n 16.51000042 16.44000018 16.41999957 16.15999921 16.31       16.25000006\n 16.39999896 16.47999951 16.70999896 16.65999932 16.62999841 16.70000054\n 16.81000012 16.9400003  16.88999877 16.95999902].\nReshape your data either using array.reshape(-1, 1) if your data has a single feature or array.reshape(1, -1) if it contains a single sample."
     ]
    }
   ],
   "source": [
    "model = load_model('trained_model.h5')\n",
    "trainPredictions = model.predict(trainX)\n",
    "testPredictions = model.predict(testX)\n",
    "#unscale predictions\n",
    "trainPredictions = scaler.inverse_transform(trainPredictions)\n",
    "testPredictions = scaler.inverse_transform(testPredictions)\n",
    "\n",
    "#trainY = scaler.fit_transform(trainY)\n",
    "#testY = scaler.fit_transform(testY)\n",
    "\n",
    "if trainY.shape == (1,292):\n",
    "    print('enter')\n",
    "    trainY, testY = trainY[0], testY[0]\n",
    "    print(trainY)\n",
    "    trainY, testY = scaler.fit_transform(trainY), scaler.fit_transform(testY)\n",
    "    print('New Shape', trainY.shape)\n",
    "\n",
    "trainY = scaler.inverse_transform([trainY])\n",
    "testY = scaler.inverse_transform([testY])\n",
    "\n",
    "trainScore = math.sqrt(mean_squared_error(trainY[0], trainPredictions[:, 0]))\n",
    "testScore = math.sqrt(mean_squared_error(testY[0], testPredictions[:, 0]))\n",
    "print('Train score: %.2f rmse', trainScore)\n",
    "print('Test score: %.2f rmse', testScore)\n",
    "\n",
    "train_plot = np.empty_like(msft_close)\n",
    "train_plot[:,:] = np.nan\n",
    "train_plot[series:len(trainPredictions)+series, :] = trainPredictions\n",
    "\n",
    "test_plot = np.empty_like(msft_close)\n",
    "test_plot[:,:] = np.nan\n",
    "test_plot[len(trainPredictions)+(series*2)+1:len(msft_close)-1, :] = testPredictions\n",
    "\n",
    "\n",
    "#plot on graph\n",
    "plt.plot(scaler.inverse_transform(msft_close))\n",
    "plt.plot(train_plot)\n",
    "plt.plot(test_plot)\n",
    "\n",
    "plt.show()"
   ]
  },
  {
   "cell_type": "code",
   "execution_count": null,
   "metadata": {},
   "outputs": [],
   "source": []
  }
 ],
 "metadata": {
  "kernelspec": {
   "display_name": "Python 3",
   "language": "python",
   "name": "python3"
  },
  "language_info": {
   "codemirror_mode": {
    "name": "ipython",
    "version": 3
   },
   "file_extension": ".py",
   "mimetype": "text/x-python",
   "name": "python",
   "nbconvert_exporter": "python",
   "pygments_lexer": "ipython3",
   "version": "3.6.4"
  }
 },
 "nbformat": 4,
 "nbformat_minor": 2
}
