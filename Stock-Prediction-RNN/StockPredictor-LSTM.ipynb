{
 "cells": [
  {
   "cell_type": "code",
   "execution_count": 1,
   "metadata": {},
   "outputs": [
    {
     "name": "stderr",
     "output_type": "stream",
     "text": [
      "Using TensorFlow backend.\n",
      "/Library/Frameworks/Python.framework/Versions/3.6/lib/python3.6/site-packages/sklearn/cross_validation.py:41: DeprecationWarning: This module was deprecated in version 0.18 in favor of the model_selection module into which all the refactored classes and functions are moved. Also note that the interface of the new CV iterators are different from that of this module. This module will be removed in 0.20.\n",
      "  \"This module will be removed in 0.20.\", DeprecationWarning)\n"
     ]
    }
   ],
   "source": [
    "import numpy as np\n",
    "import pandas as pd\n",
    "\n",
    "from keras.layers.core import Dense, Activation, Dropout\n",
    "from keras.layers.recurrent import LSTM\n",
    "from keras.models import Sequential\n",
    "\n",
    "from sklearn.cross_validation import  train_test_split\n",
    "from sklearn.preprocessing import MinMaxScaler\n",
    "from sklearn.metrics import mean_squared_error\n",
    "\n",
    "import matplotlib.pyplot as plt\n",
    "\n",
    "import math\n"
   ]
  },
  {
   "cell_type": "code",
   "execution_count": 2,
   "metadata": {},
   "outputs": [
    {
     "data": {
      "text/html": [
       "<div>\n",
       "<style scoped>\n",
       "    .dataframe tbody tr th:only-of-type {\n",
       "        vertical-align: middle;\n",
       "    }\n",
       "\n",
       "    .dataframe tbody tr th {\n",
       "        vertical-align: top;\n",
       "    }\n",
       "\n",
       "    .dataframe thead th {\n",
       "        text-align: right;\n",
       "    }\n",
       "</style>\n",
       "<table border=\"1\" class=\"dataframe\">\n",
       "  <thead>\n",
       "    <tr style=\"text-align: right;\">\n",
       "      <th></th>\n",
       "      <th>Date</th>\n",
       "      <th>Open</th>\n",
       "      <th>High</th>\n",
       "      <th>Low</th>\n",
       "      <th>Close</th>\n",
       "      <th>Adj Close</th>\n",
       "      <th>Volume</th>\n",
       "    </tr>\n",
       "  </thead>\n",
       "  <tbody>\n",
       "    <tr>\n",
       "      <th>248</th>\n",
       "      <td>2018-07-11</td>\n",
       "      <td>225.759995</td>\n",
       "      <td>227.250000</td>\n",
       "      <td>225.199997</td>\n",
       "      <td>225.660004</td>\n",
       "      <td>225.660004</td>\n",
       "      <td>2527000</td>\n",
       "    </tr>\n",
       "    <tr>\n",
       "      <th>249</th>\n",
       "      <td>2018-07-12</td>\n",
       "      <td>227.639999</td>\n",
       "      <td>227.800003</td>\n",
       "      <td>225.770004</td>\n",
       "      <td>227.220001</td>\n",
       "      <td>227.220001</td>\n",
       "      <td>2223100</td>\n",
       "    </tr>\n",
       "    <tr>\n",
       "      <th>250</th>\n",
       "      <td>2018-07-13</td>\n",
       "      <td>226.630005</td>\n",
       "      <td>228.619995</td>\n",
       "      <td>223.929993</td>\n",
       "      <td>226.410004</td>\n",
       "      <td>226.410004</td>\n",
       "      <td>2541500</td>\n",
       "    </tr>\n",
       "    <tr>\n",
       "      <th>251</th>\n",
       "      <td>2018-07-16</td>\n",
       "      <td>227.199997</td>\n",
       "      <td>231.440002</td>\n",
       "      <td>226.740005</td>\n",
       "      <td>231.440002</td>\n",
       "      <td>231.440002</td>\n",
       "      <td>3268200</td>\n",
       "    </tr>\n",
       "    <tr>\n",
       "      <th>252</th>\n",
       "      <td>2018-07-17</td>\n",
       "      <td>231.479996</td>\n",
       "      <td>233.229996</td>\n",
       "      <td>226.869995</td>\n",
       "      <td>228.567993</td>\n",
       "      <td>228.567993</td>\n",
       "      <td>5334098</td>\n",
       "    </tr>\n",
       "  </tbody>\n",
       "</table>\n",
       "</div>"
      ],
      "text/plain": [
       "           Date        Open        High         Low       Close   Adj Close  \\\n",
       "248  2018-07-11  225.759995  227.250000  225.199997  225.660004  225.660004   \n",
       "249  2018-07-12  227.639999  227.800003  225.770004  227.220001  227.220001   \n",
       "250  2018-07-13  226.630005  228.619995  223.929993  226.410004  226.410004   \n",
       "251  2018-07-16  227.199997  231.440002  226.740005  231.440002  231.440002   \n",
       "252  2018-07-17  231.479996  233.229996  226.869995  228.567993  228.567993   \n",
       "\n",
       "      Volume  \n",
       "248  2527000  \n",
       "249  2223100  \n",
       "250  2541500  \n",
       "251  3268200  \n",
       "252  5334098  "
      ]
     },
     "execution_count": 2,
     "metadata": {},
     "output_type": "execute_result"
    }
   ],
   "source": [
    "np.random.seed(7)\n",
    "\n",
    "msft_dataset = pd.read_csv('./data/GoldmanSachs.csv')\n",
    "msft_dataset.tail()"
   ]
  },
  {
   "cell_type": "code",
   "execution_count": 3,
   "metadata": {},
   "outputs": [
    {
     "data": {
      "text/plain": [
       "Date          object\n",
       "Open         float64\n",
       "High         float64\n",
       "Low          float64\n",
       "Close        float64\n",
       "Adj Close    float64\n",
       "Volume         int64\n",
       "dtype: object"
      ]
     },
     "execution_count": 3,
     "metadata": {},
     "output_type": "execute_result"
    }
   ],
   "source": [
    "msft_dataset.dtypes"
   ]
  },
  {
   "cell_type": "code",
   "execution_count": 4,
   "metadata": {},
   "outputs": [],
   "source": [
    "msft_dataset['Date'] = pd.to_datetime(msft_dataset['Date'])\n",
    "msft_dataset['Close'] = pd.to_numeric(msft_dataset['Close'], downcast='float')\n",
    "msft_dataset.set_index('Date',inplace=True)"
   ]
  },
  {
   "cell_type": "code",
   "execution_count": 5,
   "metadata": {
    "scrolled": true
   },
   "outputs": [
    {
     "data": {
      "image/png": "[encoded data removed]",
      "text/plain": [
       "<Figure size 432x288 with 1 Axes>"
      ]
     },
     "metadata": {},
     "output_type": "display_data"
    }
   ],
   "source": [
    "msft_close = msft_dataset['Close']\n",
    "msft_close = msft_close.values.reshape(len(msft_close), 1)\n",
    "plt.plot(msft_close)\n",
    "plt.show()"
   ]
  },
  {
   "cell_type": "code",
   "execution_count": 6,
   "metadata": {},
   "outputs": [],
   "source": [
    "scaler = MinMaxScaler(feature_range=(0,1))\n",
    "msft_close  = scaler.fit_transform(msft_close)\n",
    "msftTrain , msftTest = msft_close[0:200], msft_close[200:]\n"
   ]
  },
  {
   "cell_type": "code",
   "execution_count": 7,
   "metadata": {},
   "outputs": [
    {
     "name": "stdout",
     "output_type": "stream",
     "text": [
      "Epoch 1/10\n",
      "192/192 [==============================] - 1s 5ms/step - loss: 0.2138\n",
      "Epoch 2/10\n",
      "192/192 [==============================] - 0s 442us/step - loss: 0.1906\n",
      "Epoch 3/10\n",
      "192/192 [==============================] - 0s 666us/step - loss: 0.1688\n",
      "Epoch 4/10\n",
      "192/192 [==============================] - 0s 498us/step - loss: 0.1486\n",
      "Epoch 5/10\n",
      "192/192 [==============================] - 0s 388us/step - loss: 0.1307\n",
      "Epoch 6/10\n",
      "192/192 [==============================] - 0s 569us/step - loss: 0.1141\n",
      "Epoch 7/10\n",
      "192/192 [==============================] - 0s 571us/step - loss: 0.0990\n",
      "Epoch 8/10\n",
      "192/192 [==============================] - 0s 478us/step - loss: 0.0868\n",
      "Epoch 9/10\n",
      "192/192 [==============================] - 0s 405us/step - loss: 0.0750\n",
      "Epoch 10/10\n",
      "192/192 [==============================] - 0s 417us/step - loss: 0.0651\n"
     ]
    },
    {
     "data": {
      "text/plain": [
       "<keras.callbacks.History at 0x1216e9f60>"
      ]
     },
     "execution_count": 7,
     "metadata": {},
     "output_type": "execute_result"
    }
   ],
   "source": [
    "def create_ts(ds, series):\n",
    "    X, Y =[], []\n",
    "    for i in range(len(ds)-series - 1):\n",
    "        item = ds[i:(i+series), 0]\n",
    "        X.append(item)\n",
    "        Y.append(ds[i+series, 0])\n",
    "    return np.array(X), np.array(Y)\n",
    "\n",
    "series = 7\n",
    "\n",
    "trainX, trainY = create_ts(msftTrain, series=7)\n",
    "testX, testY = create_ts(msftTest, series=7)\n",
    "\n",
    "trainX = np.reshape(trainX, (trainX.shape[0], trainX.shape[1], 1))\n",
    "testX = np.reshape(testX, (testX.shape[0], testX.shape[1], 1))\n",
    "\n",
    "model = Sequential()\n",
    "model.add(LSTM(4, input_shape=(series, 1)))\n",
    "model.add(Dense(1))\n",
    "model.compile(loss='mse', optimizer='adam')\n",
    "\n",
    "model.fit(trainX, trainY, epochs=10, batch_size=32)"
   ]
  },
  {
   "cell_type": "code",
   "execution_count": 8,
   "metadata": {},
   "outputs": [
    {
     "name": "stdout",
     "output_type": "stream",
     "text": [
      "Train score: %.2f rmse 14.118690407965472\n",
      "Test score: %.2f rmse 4.662303285017124\n"
     ]
    },
    {
     "data": {
      "image/png": "[encoded data removed]",
      "text/plain": [
       "<Figure size 432x288 with 1 Axes>"
      ]
     },
     "metadata": {},
     "output_type": "display_data"
    }
   ],
   "source": [
    "trainPredictions = model.predict(trainX)\n",
    "testPredictions = model.predict(testX)\n",
    "#unscale predictions\n",
    "trainPredictions = scaler.inverse_transform(trainPredictions)\n",
    "testPredictions = scaler.inverse_transform(testPredictions)\n",
    "trainY = scaler.inverse_transform([trainY])\n",
    "testY = scaler.inverse_transform([testY])\n",
    "\n",
    "trainScore = math.sqrt(mean_squared_error(trainY[0], trainPredictions[:, 0]))\n",
    "testScore = math.sqrt(mean_squared_error(testY[0], testPredictions[:, 0]))\n",
    "print('Train score: %.2f rmse', trainScore)\n",
    "print('Test score: %.2f rmse', testScore)\n",
    "\n",
    "train_plot = np.empty_like(msft_close)\n",
    "train_plot[:,:] = np.nan\n",
    "train_plot[series:len(trainPredictions)+series, :] = trainPredictions\n",
    "\n",
    "test_plot = np.empty_like(msft_close)\n",
    "test_plot[:,:] = np.nan\n",
    "test_plot[len(trainPredictions)+(series*2)+1:len(msft_close)-1, :] = testPredictions\n",
    "\n",
    "#plot on graph\n",
    "plt.plot(scaler.inverse_transform(msft_close))\n",
    "plt.plot(train_plot)\n",
    "plt.plot(test_plot)\n",
    "plt.show()"
   ]
  }
 ],
 "metadata": {
  "kernelspec": {
   "display_name": "Python 3",
   "language": "python",
   "name": "python3"
  },
  "language_info": {
   "codemirror_mode": {
    "name": "ipython",
    "version": 3
   },
   "file_extension": ".py",
   "mimetype": "text/x-python",
   "name": "python",
   "nbconvert_exporter": "python",
   "pygments_lexer": "ipython3",
   "version": "3.6.4"
  }
 },
 "nbformat": 4,
 "nbformat_minor": 2
}
