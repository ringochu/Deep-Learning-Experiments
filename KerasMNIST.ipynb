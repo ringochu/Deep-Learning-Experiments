{
  "nbformat": 4,
  "nbformat_minor": 0,
  "metadata": {
    "colab": {
      "name": "KerasMNIST.ipynb",
      "version": "0.3.2",
      "provenance": [],
      "include_colab_link": true
    },
    "kernelspec": {
      "name": "python3",
      "display_name": "Python 3"
    }
  },
  "cells": [
    {
      "cell_type": "markdown",
      "metadata": {
        "id": "view-in-github",
        "colab_type": "text"
      },
      "source": [
        "[View in Colaboratory](https://colab.research.google.com/github/ringochu/Deep-Learning-Experiments/blob/master/KerasMNIST.ipynb)"
      ]
    },
    {
      "metadata": {
        "id": "b05CkbDR8-UQ",
        "colab_type": "code",
        "colab": {
          "base_uri": "https://localhost:8080/",
          "height": 35
        },
        "outputId": "0cc91f23-08e3-4d02-aa6c-d38c960f2d22"
      },
      "cell_type": "code",
      "source": [
        "\n",
        "import numpy as np\n",
        "from keras.models import Sequential\n",
        "from keras.layers import Dense, Dropout, Activation, Flatten\n",
        "from keras.layers import MaxPooling2D, Conv2D\n",
        "from keras.utils import to_categorical"
      ],
      "execution_count": 1,
      "outputs": [
        {
          "output_type": "stream",
          "text": [
            "Using TensorFlow backend.\n"
          ],
          "name": "stderr"
        }
      ]
    },
    {
      "metadata": {
        "id": "6tkf0OthB72J",
        "colab_type": "text"
      },
      "cell_type": "markdown",
      "source": [
        "\n",
        "\n",
        "---\n",
        "\n",
        "\n",
        "*   Numerical python (Numpy) Library for matrics manipulation.\n",
        "*  Keras Sequential for us to build a linear stack of layer\n",
        "* Import Core nerual network layers such\n",
        "* Import CNN layers for classifications\n",
        "* Keras utils\n",
        "\n",
        "\n",
        "\n",
        "---\n",
        "\n"
      ]
    },
    {
      "metadata": {
        "id": "qQiM4uzoBZMT",
        "colab_type": "code",
        "colab": {
          "base_uri": "https://localhost:8080/",
          "height": 415
        },
        "outputId": "c1dd28e0-db69-4702-c693-776e1e342eca"
      },
      "cell_type": "code",
      "source": [
        "from keras.datasets import mnist\n",
        "from matplotlib import pyplot as plt\n",
        "\n",
        "from random import randint\n",
        "\n",
        "(X_train, Y_train), (X_test, Y_test) = mnist.load_data()\n",
        "\n",
        "print(\"X_train image Shape\" , str(X_train.shape) )\n",
        "print(\"X_test image Shape\" , str(X_test.shape) )\n",
        "\n",
        "a, b, c, d = randint(0,59999), randint(0,59999), randint(0,9999), randint(0,9999)\n",
        "\n",
        "plt.subplot(221)\n",
        "plt.imshow(X_train[a])\n",
        "plt.title('Random MNIST, actual number:' + str(Y_train[a]))\n",
        "plt.axis('off')\n",
        "\n",
        "plt.subplot(222)\n",
        "plt.imshow(X_train[b])\n",
        "plt.title('Random train MNIST image, actual number: '+ str(Y_train[b]))\n",
        "plt.axis('off')\n",
        "\n",
        "plt.subplot(223)\n",
        "plt.imshow(X_test[c])\n",
        "plt.title('Random test MNIST image, actual number: ' + str(Y_test[c]))\n",
        "plt.axis('off')\n",
        "\n",
        "plt.subplot(224)\n",
        "plt.imshow(X_test[d])\n",
        "plt.title('Random test MNIST image, actual number: ' + str(Y_test[d]))\n",
        "plt.axis('off')"
      ],
      "execution_count": 2,
      "outputs": [
        {
          "output_type": "stream",
          "text": [
            "X_train image Shape (60000, 28, 28)\n",
            "X_test image Shape (10000, 28, 28)\n"
          ],
          "name": "stdout"
        },
        {
          "output_type": "execute_result",
          "data": {
            "text/plain": [
              "(-0.5, 27.5, 27.5, -0.5)"
            ]
          },
          "metadata": {
            "tags": []
          },
          "execution_count": 2
        },
        {
          "output_type": "display_data",
          "data": {
            "image/png": "[encoded data removed]",
            "text/plain": [
              "<matplotlib.figure.Figure at 0x7ffb3cd245c0>"
            ]
          },
          "metadata": {
            "tags": []
          }
        }
      ]
    },
    {
      "metadata": {
        "id": "_uJNnIAZD7Dz",
        "colab_type": "text"
      },
      "cell_type": "markdown",
      "source": [
        "\n",
        "\n",
        "---\n",
        "\n",
        "\n",
        "From keras.datasets load the fasmous MNIST datasets, There're also other datasets available from Keras. [Link to Keras.dataset](https://keras.io/datasets/)\n",
        "\n",
        "X_train contains train images, y_train contains the label (Actual number) correspond to the train images.\n",
        "\n",
        "We would also like to see the size as well as some images from the dataset.\n",
        "\n",
        "\n",
        "\n",
        "---\n",
        "\n",
        "\n"
      ]
    },
    {
      "metadata": {
        "id": "PybqcughBXNg",
        "colab_type": "code",
        "colab": {
          "base_uri": "https://localhost:8080/",
          "height": 35
        },
        "outputId": "a7886dd1-058f-4c5c-e7dd-4f730dc0f15d"
      },
      "cell_type": "code",
      "source": [
        "X_train = X_train.reshape(X_train.shape[0], 28, 28,1)\n",
        "X_test = X_test.reshape(X_test.shape[0], 28, 28, 1)\n",
        "\n",
        "X_train = X_train.astype('float32')\n",
        "X_test = X_test.astype('float32')\n",
        "X_train /= 255\n",
        "X_test /= 255\n",
        "\n",
        "Y_train = to_categorical(Y_train, 10)\n",
        "Y_test = to_categorical(Y_test, 10)\n",
        "\n",
        "print(\"Y_train\" + str(Y_train.shape))"
      ],
      "execution_count": 3,
      "outputs": [
        {
          "output_type": "stream",
          "text": [
            "Y_train(60000, 10)\n"
          ],
          "name": "stdout"
        }
      ]
    },
    {
      "metadata": {
        "id": "3iMX8Dy4JqQE",
        "colab_type": "text"
      },
      "cell_type": "markdown",
      "source": [
        "\n",
        "Preprocessing data\n",
        "---\n",
        "\n",
        "\n",
        "For a typical color image, they come with dimension (x, y, 3), The third dimension stands for depths, which are Red, Blue, Green\n",
        "\n",
        "However for MNIST, dimension is only (x, y , 1), in another word, we need to reshape the dataset\n",
        "\n",
        "---\n",
        "\n",
        "Since MNIST images come in black and white, so each pixel is numbered between 0-255, We need to narrow down to 0-1 for our neural network.\n",
        "\n",
        "---\n",
        "\n",
        "One-hot encode, each label is a number, we covert it to a 1x10 dimension array, for example\n",
        "\n",
        "0 is equivlent to [1, 0, 0, 0, 0, 0, 0, 0, 0, 0]\n",
        "\n",
        "1 is equivlent to [0, 1, 0, 0, 0, 0, 0, 0, 0, 0]\n",
        "\n",
        "\n",
        "\n",
        "---\n",
        "\n",
        "\n"
      ]
    },
    {
      "metadata": {
        "id": "rtRIHn7mSIVH",
        "colab_type": "code",
        "colab": {
          "base_uri": "https://localhost:8080/",
          "height": 104
        },
        "outputId": "04d396e7-13ff-41e1-af16-1f9426179d93"
      },
      "cell_type": "code",
      "source": [
        "model = Sequential()\n",
        " \n",
        "model.add(Conv2D(32, kernel_size=(3, 3), activation='relu', input_shape=( 28,28,1) ))\n",
        "model.add(Conv2D(32, (3, 3), activation='relu'))\n",
        "model.add(MaxPooling2D(pool_size=(2,2)))\n",
        "model.add(Dropout(0.25))\n",
        " \n",
        "model.add(Flatten())\n",
        "model.add(Dense(128, activation='relu'))\n",
        "model.add(Dropout(0.5))\n",
        "model.add(Dense(10, activation='softmax'))\n",
        "\n",
        "model.compile(loss='categorical_crossentropy', optimizer='adam' , metrics=['accuracy'])\n",
        "\n",
        "model.fit(X_train, Y_train, \n",
        "          batch_size=32, nb_epoch=1, verbose=1)\n",
        "\n"
      ],
      "execution_count": 4,
      "outputs": [
        {
          "output_type": "stream",
          "text": [
            "/usr/local/lib/python3.6/dist-packages/keras/models.py:981: UserWarning: The `nb_epoch` argument in `fit` has been renamed `epochs`.\n",
            "  warnings.warn('The `nb_epoch` argument in `fit` '\n"
          ],
          "name": "stderr"
        },
        {
          "output_type": "stream",
          "text": [
            "Epoch 1/1\n",
            "60000/60000 [==============================] - 139s 2ms/step - loss: 0.2055 - acc: 0.9382\n"
          ],
          "name": "stdout"
        },
        {
          "output_type": "execute_result",
          "data": {
            "text/plain": [
              "<keras.callbacks.History at 0x7ffb3a2e9a20>"
            ]
          },
          "metadata": {
            "tags": []
          },
          "execution_count": 4
        }
      ]
    },
    {
      "metadata": {
        "id": "X3bm3icCpSHo",
        "colab_type": "code",
        "colab": {
          "base_uri": "https://localhost:8080/",
          "height": 52
        },
        "outputId": "e9aacc67-3faf-4062-94f9-58594f4f31b2"
      },
      "cell_type": "code",
      "source": [
        "score = model.evaluate(X_test, Y_test, verbose=0)\n",
        "print('CNN Loss value:', score[0])\n",
        "print('Accuracy:', score[1])"
      ],
      "execution_count": 16,
      "outputs": [
        {
          "output_type": "stream",
          "text": [
            "CNN Loss value: 0.046360752520803364\n",
            "Accuracy: 0.9847\n"
          ],
          "name": "stdout"
        }
      ]
    },
    {
      "metadata": {
        "id": "iysRyL82pxRJ",
        "colab_type": "code",
        "colab": {
          "base_uri": "https://localhost:8080/",
          "height": 35
        },
        "outputId": "49661ab3-2a37-46d7-f6d4-6dcac6f9b139"
      },
      "cell_type": "code",
      "source": [
        "\n",
        "X = np.array([X_test[0],X_test[1]])\n",
        "model.predict_classes(X)"
      ],
      "execution_count": 37,
      "outputs": [
        {
          "output_type": "execute_result",
          "data": {
            "text/plain": [
              "array([7, 2])"
            ]
          },
          "metadata": {
            "tags": []
          },
          "execution_count": 37
        }
      ]
    }
  ]
}