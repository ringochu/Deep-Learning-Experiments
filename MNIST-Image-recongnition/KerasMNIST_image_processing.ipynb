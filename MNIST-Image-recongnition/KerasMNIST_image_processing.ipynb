{
 "cells": [
  {
   "cell_type": "markdown",
   "metadata": {
    "colab_type": "text",
    "id": "view-in-github"
   },
   "source": [
    "[View in Colaboratory](https://colab.research.google.com/github/ringochu/Deep-Learning-Experiments/blob/master/KerasMNIST.ipynb)"
   ]
  },
  {
   "cell_type": "code",
   "execution_count": 1,
   "metadata": {
    "colab": {
     "base_uri": "https://localhost:8080/",
     "height": 35
    },
    "colab_type": "code",
    "id": "b05CkbDR8-UQ",
    "outputId": "ffa097ba-c197-4618-9d77-a2c50db8b89e"
   },
   "outputs": [
    {
     "name": "stderr",
     "output_type": "stream",
     "text": [
      "Using TensorFlow backend.\n"
     ]
    }
   ],
   "source": [
    "\n",
    "import numpy as np\n",
    "from keras.models import Sequential\n",
    "from keras.layers import Dense, Dropout, Activation, Flatten\n",
    "from keras.layers import MaxPooling2D, Conv2D\n",
    "from keras.utils import to_categorical"
   ]
  },
  {
   "cell_type": "markdown",
   "metadata": {
    "colab_type": "text",
    "id": "6tkf0OthB72J"
   },
   "source": [
    "\n",
    "\n",
    "---\n",
    "\n",
    "\n",
    "*   Numerical python (Numpy) Library for matrics manipulation.\n",
    "*  Keras Sequential for us to build a linear stack of layer\n",
    "* Import Core nerual network layers such\n",
    "* Import CNN layers for classifications\n",
    "* Keras utils\n",
    "\n",
    "\n",
    "\n",
    "---\n",
    "\n"
   ]
  },
  {
   "cell_type": "code",
   "execution_count": 2,
   "metadata": {
    "colab": {
     "base_uri": "https://localhost:8080/",
     "height": 415
    },
    "colab_type": "code",
    "id": "qQiM4uzoBZMT",
    "outputId": "ecb8c0c8-f7d7-440b-d58d-204022b7d820"
   },
   "outputs": [
    {
     "name": "stdout",
     "output_type": "stream",
     "text": [
      "X_train image Shape (60000, 28, 28)\n",
      "X_test image Shape (10000, 28, 28)\n"
     ]
    },
    {
     "data": {
      "text/plain": [
       "(-0.5, 27.5, 27.5, -0.5)"
      ]
     },
     "execution_count": 2,
     "metadata": {
      "tags": []
     },
     "output_type": "execute_result"
    },
    {
     "data": {
      "image/png": "[encoded data removed]",
      "text/plain": [
       "<matplotlib.figure.Figure at 0x7fa425af0470>"
      ]
     },
     "metadata": {
      "tags": []
     },
     "output_type": "display_data"
    }
   ],
   "source": [
    "from keras.datasets import mnist\n",
    "from matplotlib import pyplot as plt\n",
    "\n",
    "from random import randint\n",
    "\n",
    "(X_train, Y_train), (X_test, Y_test) = mnist.load_data()\n",
    "\n",
    "print(\"X_train image Shape\" , str(X_train.shape) )\n",
    "print(\"X_test image Shape\" , str(X_test.shape) )\n",
    "\n",
    "a, b, c, d = randint(0,59999), randint(0,59999), randint(0,9999), randint(0,9999)\n",
    "\n",
    "plt.subplot(221)\n",
    "plt.imshow(X_train[a])\n",
    "plt.title('Random MNIST, actual number:' + str(Y_train[a]))\n",
    "plt.axis('off')\n",
    "\n",
    "plt.subplot(222)\n",
    "plt.imshow(X_train[b])\n",
    "plt.title('Random train MNIST image, actual number: '+ str(Y_train[b]))\n",
    "plt.axis('off')\n",
    "\n",
    "plt.subplot(223)\n",
    "plt.imshow(X_test[c])\n",
    "plt.title('Random test MNIST image, actual number: ' + str(Y_test[c]))\n",
    "plt.axis('off')\n",
    "\n",
    "plt.subplot(224)\n",
    "plt.imshow(X_test[d])\n",
    "plt.title('Random test MNIST image, actual number: ' + str(Y_test[d]))\n",
    "plt.axis('off')"
   ]
  },
  {
   "cell_type": "markdown",
   "metadata": {
    "colab_type": "text",
    "id": "_uJNnIAZD7Dz"
   },
   "source": [
    "\n",
    "\n",
    "---\n",
    "\n",
    "\n",
    "From keras.datasets load the fasmous MNIST datasets, There're also other datasets available from Keras. [Link to Keras.dataset](https://keras.io/datasets/)\n",
    "\n",
    "X_train contains train images, y_train contains the label (Actual number) correspond to the train images.\n",
    "\n",
    "We would also like to see the size as well as some images from the dataset.\n",
    "\n",
    "\n",
    "\n",
    "---\n",
    "\n",
    "\n"
   ]
  },
  {
   "cell_type": "code",
   "execution_count": 3,
   "metadata": {
    "colab": {
     "base_uri": "https://localhost:8080/",
     "height": 35
    },
    "colab_type": "code",
    "id": "PybqcughBXNg",
    "outputId": "5280fab3-dc7a-4878-f6ec-61ee1d84ec4d"
   },
   "outputs": [
    {
     "name": "stdout",
     "output_type": "stream",
     "text": [
      "Y_train(60000, 10)\n"
     ]
    }
   ],
   "source": [
    "X_train = X_train.reshape(X_train.shape[0], 28, 28,1)\n",
    "X_test = X_test.reshape(X_test.shape[0], 28, 28, 1)\n",
    "\n",
    "X_train = X_train.astype('float32')\n",
    "X_test = X_test.astype('float32')\n",
    "X_train /= 255\n",
    "X_test /= 255\n",
    "\n",
    "Y_train = to_categorical(Y_train, 10)\n",
    "Y_test = to_categorical(Y_test, 10)\n",
    "\n",
    "print(\"Y_train\" + str(Y_train.shape))"
   ]
  },
  {
   "cell_type": "markdown",
   "metadata": {
    "colab_type": "text",
    "id": "3iMX8Dy4JqQE"
   },
   "source": [
    "\n",
    "Preprocessing data\n",
    "---\n",
    "\n",
    "\n",
    "For a typical color image, they come with dimension (x, y, 3), The third dimension stands for depths, which are Red, Blue, Green\n",
    "\n",
    "However for MNIST, dimension is only (x, y , 1), in another word, we need to reshape the dataset\n",
    "\n",
    "---\n",
    "\n",
    "Since MNIST images come in black and white, so each pixel is numbered between 0-255, We need to narrow down to 0-1 for our neural network.\n",
    "\n",
    "---\n",
    "\n",
    "One-hot encode, each label is a number, we covert it to a 1x10 dimension array, for example\n",
    "\n",
    "0 is equivlent to [1, 0, 0, 0, 0, 0, 0, 0, 0, 0]\n",
    "\n",
    "1 is equivlent to [0, 1, 0, 0, 0, 0, 0, 0, 0, 0]\n",
    "\n",
    "\n",
    "\n",
    "---\n",
    "\n",
    "\n"
   ]
  },
  {
   "cell_type": "code",
   "execution_count": 4,
   "metadata": {
    "colab": {
     "base_uri": "https://localhost:8080/",
     "height": 104
    },
    "colab_type": "code",
    "id": "rtRIHn7mSIVH",
    "outputId": "3f48b739-5286-4133-8dd5-5932be56ed27"
   },
   "outputs": [
    {
     "name": "stderr",
     "output_type": "stream",
     "text": [
      "/usr/local/lib/python3.6/dist-packages/keras/models.py:981: UserWarning: The `nb_epoch` argument in `fit` has been renamed `epochs`.\n",
      "  warnings.warn('The `nb_epoch` argument in `fit` '\n"
     ]
    },
    {
     "name": "stdout",
     "output_type": "stream",
     "text": [
      "Epoch 1/1\n",
      "60000/60000 [==============================] - 140s 2ms/step - loss: 0.2130 - acc: 0.9354\n"
     ]
    },
    {
     "data": {
      "text/plain": [
       "<keras.callbacks.History at 0x7fa4230b4d68>"
      ]
     },
     "execution_count": 4,
     "metadata": {
      "tags": []
     },
     "output_type": "execute_result"
    }
   ],
   "source": [
    "model = Sequential()\n",
    " \n",
    "model.add(Conv2D(32, kernel_size=(3, 3), activation='relu', input_shape=( 28,28,1) ))\n",
    "model.add(Conv2D(32, (3, 3), activation='relu'))\n",
    "model.add(MaxPooling2D(pool_size=(2,2)))\n",
    "model.add(Dropout(0.25))\n",
    " \n",
    "model.add(Flatten())\n",
    "model.add(Dense(128, activation='relu'))\n",
    "model.add(Dropout(0.5))\n",
    "model.add(Dense(10, activation='softmax'))\n",
    "\n",
    "model.compile(loss='categorical_crossentropy', optimizer='adam' , metrics=['accuracy'])\n",
    "\n",
    "model.fit(X_train, Y_train, \n",
    "          batch_size=32, nb_epoch=1, verbose=1)\n",
    "\n"
   ]
  },
  {
   "cell_type": "code",
   "execution_count": 5,
   "metadata": {
    "colab": {
     "base_uri": "https://localhost:8080/",
     "height": 52
    },
    "colab_type": "code",
    "id": "X3bm3icCpSHo",
    "outputId": "f0da2801-8b9a-4d53-d3a1-23c44f67ec89"
   },
   "outputs": [
    {
     "name": "stdout",
     "output_type": "stream",
     "text": [
      "CNN Loss value: 0.048744085507059935\n",
      "Accuracy: 0.9844\n"
     ]
    }
   ],
   "source": [
    "score = model.evaluate(X_test, Y_test, verbose=0)\n",
    "print('CNN Loss value:', score[0])\n",
    "print('Accuracy:', score[1])"
   ]
  },
  {
   "cell_type": "code",
   "execution_count": 6,
   "metadata": {
    "colab": {
     "base_uri": "https://localhost:8080/",
     "height": 35
    },
    "colab_type": "code",
    "id": "iysRyL82pxRJ",
    "outputId": "f3c8036d-7179-4084-ca04-c8e9dc4e06f1"
   },
   "outputs": [
    {
     "data": {
      "text/plain": [
       "array([5, 4])"
      ]
     },
     "execution_count": 6,
     "metadata": {
      "tags": []
     },
     "output_type": "execute_result"
    }
   ],
   "source": [
    "\n",
    "X = np.array([X_test[c],X_test[d]])\n",
    "model.predict_classes(X)"
   ]
  }
 ],
 "metadata": {
  "colab": {
   "include_colab_link": true,
   "name": "KerasMNIST.ipynb",
   "provenance": [],
   "version": "0.3.2"
  },
  "kernelspec": {
   "display_name": "Python 3",
   "language": "python",
   "name": "python3"
  },
  "language_info": {
   "codemirror_mode": {
    "name": "ipython",
    "version": 3
   },
   "file_extension": ".py",
   "mimetype": "text/x-python",
   "name": "python",
   "nbconvert_exporter": "python",
   "pygments_lexer": "ipython3",
   "version": "3.6.4"
  }
 },
 "nbformat": 4,
 "nbformat_minor": 1
}
